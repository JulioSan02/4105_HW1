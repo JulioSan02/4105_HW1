{
  "nbformat": 4,
  "nbformat_minor": 0,
  "metadata": {
    "colab": {
      "provenance": [],
      "authorship_tag": "ABX9TyNR1ogxmNThgVH2cVvYEGAa",
      "include_colab_link": true
    },
    "kernelspec": {
      "name": "python3",
      "display_name": "Python 3"
    },
    "language_info": {
      "name": "python"
    }
  },
  "cells": [
    {
      "cell_type": "markdown",
      "metadata": {
        "id": "view-in-github",
        "colab_type": "text"
      },
      "source": [
        "<a href=\"https://colab.research.google.com/github/JulioSan02/UNCC/blob/4105/HW5/JS_4105_HW5_Q1.ipynb\" target=\"_parent\"><img src=\"https://colab.research.google.com/assets/colab-badge.svg\" alt=\"Open In Colab\"/></a>"
      ]
    },
    {
      "cell_type": "code",
      "source": [
        "import numpy as np\n",
        "np.set_printoptions(suppress=True)\n",
        "import matplotlib.pyplot as plt\n",
        "import pandas as pd\n",
        "from google.colab import drive\n",
        "from sklearn.model_selection import train_test_split\n",
        "from sklearn.preprocessing import StandardScaler\n",
        "from sklearn import metrics\n",
        "from sklearn.metrics import mean_squared_error\n",
        "import torch\n",
        "import torch.nn as nn\n",
        "import torch.optim as optim\n",
        "\n",
        "drive.mount('/content/drive')\n",
        "\n",
        "\n",
        "t_c_og = [0.5, 14.0, 15.0, 28.0, 11.0, 8.0, 3.0, -4.0, 6.0, 13.0, 21.0]\n",
        "t_u_og = [35.7, 55.9, 58.2, 81.9, 56.3, 48.9, 33.9, 21.8, 48.4, 60.4, 68.4]\n",
        "t_c = torch.tensor(t_c_og)\n",
        "t_u = torch.tensor(t_u_og)\n",
        "\n",
        "t_u_stand = 0.01 * t_u\n",
        "\n",
        "def model(t_u, w1, w2, b):\n",
        "  t_p = w2 * t_u ** 2 + w1 * t_u + b\n",
        "  return t_p\n",
        "\n",
        "\n",
        "def loss_fn(t_p, t_c):\n",
        "  squared_diffs = (t_p - t_c)**2\n",
        "  return squared_diffs.mean()\n",
        "\n",
        "\n",
        "def training_loop(n_epochs, optimizer, params, t_u, t_c):\n",
        "  for epoch in range(1, n_epochs + 1):\n",
        "    t_p = model(t_u, *params)\n",
        "    loss = loss_fn(t_p, t_c)\n",
        "\n",
        "    optimizer.zero_grad()\n",
        "    loss.backward()\n",
        "    optimizer.step()\n",
        "\n",
        "    if epoch % 500 == 0:\n",
        "      print('Epoch %d, \\tLoss %f' % (epoch, float(loss)))\n",
        "\n",
        "  return params\n",
        "\n",
        "\n",
        "params_og = torch.tensor([1.0, 1.0, 0.0], requires_grad=True)"
      ],
      "metadata": {
        "colab": {
          "base_uri": "https://localhost:8080/"
        },
        "id": "dUkCWAJDsDLn",
        "outputId": "6adf9928-76ca-406f-d8a5-0dacfee8f539"
      },
      "execution_count": null,
      "outputs": [
        {
          "output_type": "stream",
          "name": "stdout",
          "text": [
            "Drive already mounted at /content/drive; to attempt to forcibly remount, call drive.mount(\"/content/drive\", force_remount=True).\n"
          ]
        }
      ]
    },
    {
      "cell_type": "code",
      "source": [
        "learning_rate_1 = 0.0001\n",
        "optimizer_1 = optim.SGD([params_og], lr=learning_rate_1)\n",
        "\n",
        "print('Loss every 500 epochs using learning rate of 0.0001\\n')\n",
        "training_loop(\n",
        "    n_epochs = 5000,\n",
        "    optimizer = optimizer_1,\n",
        "    params = params_og,\n",
        "    t_u = t_u_stand,\n",
        "    t_c = t_c,\n",
        ")"
      ],
      "metadata": {
        "colab": {
          "base_uri": "https://localhost:8080/"
        },
        "id": "i7VwnbTSZRqr",
        "outputId": "e9f53743-8299-4151-ce44-49a16833bb9c"
      },
      "execution_count": null,
      "outputs": [
        {
          "output_type": "stream",
          "name": "stdout",
          "text": [
            "Loss every 500 epochs using learning rate of 0.0001\n",
            "\n",
            "Epoch 500, \tLoss 138.825058\n",
            "Epoch 1000, \tLoss 118.428955\n",
            "Epoch 1500, \tLoss 102.817139\n",
            "Epoch 2000, \tLoss 90.845161\n",
            "Epoch 2500, \tLoss 81.642403\n",
            "Epoch 3000, \tLoss 74.546761\n",
            "Epoch 3500, \tLoss 69.054512\n",
            "Epoch 4000, \tLoss 64.782639\n",
            "Epoch 4500, \tLoss 61.439720\n",
            "Epoch 5000, \tLoss 58.804115\n"
          ]
        },
        {
          "output_type": "execute_result",
          "data": {
            "text/plain": [
              "tensor([4.8014, 3.7440, 4.9612], requires_grad=True)"
            ]
          },
          "metadata": {},
          "execution_count": 38
        }
      ]
    },
    {
      "cell_type": "code",
      "source": [
        "params_og = torch.tensor([1.0, 1.0, 0.0], requires_grad=True)\n",
        "learning_rate_2 = 0.001\n",
        "optimizer_2 = optim.SGD([params_og], lr=learning_rate_2)\n",
        "\n",
        "print('Loss every 500 epochs using learning rate of 0.001\\n')\n",
        "training_loop(\n",
        "    n_epochs = 5000,\n",
        "    optimizer = optimizer_2,\n",
        "    params = params_og,\n",
        "    t_u = t_u_stand,\n",
        "    t_c = t_c,\n",
        ")"
      ],
      "metadata": {
        "colab": {
          "base_uri": "https://localhost:8080/"
        },
        "id": "85Xki91BYl4C",
        "outputId": "b4d807b8-6852-4a58-8030-faca2607f18f"
      },
      "execution_count": null,
      "outputs": [
        {
          "output_type": "stream",
          "name": "stdout",
          "text": [
            "Loss every 500 epochs using learning rate of 0.001\n",
            "\n",
            "Epoch 500, \tLoss 58.822189\n",
            "Epoch 1000, \tLoss 48.348232\n",
            "Epoch 1500, \tLoss 44.396774\n",
            "Epoch 2000, \tLoss 41.118404\n",
            "Epoch 2500, \tLoss 38.115955\n",
            "Epoch 3000, \tLoss 35.345898\n",
            "Epoch 3500, \tLoss 32.788918\n",
            "Epoch 4000, \tLoss 30.428556\n",
            "Epoch 4500, \tLoss 28.249678\n",
            "Epoch 5000, \tLoss 26.238340\n"
          ]
        },
        {
          "output_type": "execute_result",
          "data": {
            "text/plain": [
              "tensor([11.5393, 11.6079,  1.5983], requires_grad=True)"
            ]
          },
          "metadata": {},
          "execution_count": 39
        }
      ]
    },
    {
      "cell_type": "code",
      "source": [
        "params_og = torch.tensor([1.0, 1.0, 0.0], requires_grad=True)\n",
        "learning_rate_3 = 0.01\n",
        "optimizer_3 = optim.SGD([params_og], lr=learning_rate_3)\n",
        "\n",
        "print('Loss every 500 epochs using learning rate of 0.01\\n')\n",
        "training_loop(\n",
        "    n_epochs = 5000,\n",
        "    optimizer = optimizer_3,\n",
        "    params = params_og,\n",
        "    t_u = t_u_stand,\n",
        "    t_c = t_c,\n",
        ")"
      ],
      "metadata": {
        "colab": {
          "base_uri": "https://localhost:8080/"
        },
        "id": "V94tBATxYvBv",
        "outputId": "96c1a82b-f501-48cb-95a2-2f45fb03de44"
      },
      "execution_count": null,
      "outputs": [
        {
          "output_type": "stream",
          "name": "stdout",
          "text": [
            "Loss every 500 epochs using learning rate of 0.01\n",
            "\n",
            "Epoch 500, \tLoss 26.266186\n",
            "Epoch 1000, \tLoss 12.949670\n",
            "Epoch 1500, \tLoss 6.968258\n",
            "Epoch 2000, \tLoss 4.281574\n",
            "Epoch 2500, \tLoss 3.074787\n",
            "Epoch 3000, \tLoss 2.532740\n",
            "Epoch 3500, \tLoss 2.289264\n",
            "Epoch 4000, \tLoss 2.179901\n",
            "Epoch 4500, \tLoss 2.130778\n",
            "Epoch 5000, \tLoss 2.108713\n"
          ]
        },
        {
          "output_type": "execute_result",
          "data": {
            "text/plain": [
              "tensor([ 24.3412,  27.9050, -10.3017], requires_grad=True)"
            ]
          },
          "metadata": {},
          "execution_count": 40
        }
      ]
    },
    {
      "cell_type": "code",
      "source": [
        "params_og = torch.tensor([1.0, 1.0, 0.0], requires_grad=True)\n",
        "learning_rate_4 = 0.1\n",
        "optimizer_4 = optim.SGD([params_og], lr=learning_rate_4)\n",
        "\n",
        "print('Loss every 500 epochs using learning rate of 0.1\\n')\n",
        "training_loop(\n",
        "    n_epochs = 5000,\n",
        "    optimizer = optimizer_4,\n",
        "    params = params_og,\n",
        "    t_u = t_u_stand,\n",
        "    t_c = t_c,\n",
        ")"
      ],
      "metadata": {
        "colab": {
          "base_uri": "https://localhost:8080/"
        },
        "id": "n_DDgotTaa5v",
        "outputId": "8d71e124-d92e-434f-8460-ed74cdd0630d"
      },
      "execution_count": null,
      "outputs": [
        {
          "output_type": "stream",
          "name": "stdout",
          "text": [
            "Loss every 500 epochs using learning rate of 0.1\n",
            "\n",
            "Epoch 500, \tLoss 2.108456\n",
            "Epoch 1000, \tLoss 2.090728\n",
            "Epoch 1500, \tLoss 2.090720\n",
            "Epoch 2000, \tLoss 2.090720\n",
            "Epoch 2500, \tLoss 2.090721\n",
            "Epoch 3000, \tLoss 2.090719\n",
            "Epoch 3500, \tLoss 2.090720\n",
            "Epoch 4000, \tLoss 2.090720\n",
            "Epoch 4500, \tLoss 2.090720\n",
            "Epoch 5000, \tLoss 2.090720\n"
          ]
        },
        {
          "output_type": "execute_result",
          "data": {
            "text/plain": [
              "tensor([ 24.7210,  28.3420, -10.6403], requires_grad=True)"
            ]
          },
          "metadata": {},
          "execution_count": 41
        }
      ]
    },
    {
      "cell_type": "code",
      "source": [
        "params_og = torch.tensor([1.0, 1.0, 0.0], requires_grad=True)\n",
        "learning_rate_5 = 0.0001\n",
        "optimizer_5 = optim.Adam([params_og], lr=learning_rate_5)\n",
        "\n",
        "print('Loss every 500 epochs using learning rate of 0.0001\\n')\n",
        "training_loop(\n",
        "    n_epochs = 5000,\n",
        "    optimizer = optimizer_5,\n",
        "    params = params_og,\n",
        "    t_u = t_u_stand,\n",
        "    t_c = t_c,\n",
        "\n",
        ")"
      ],
      "metadata": {
        "colab": {
          "base_uri": "https://localhost:8080/"
        },
        "id": "Cc-XyFBZb3vc",
        "outputId": "05393a08-6c36-4bda-f6d2-0fb027f3d177"
      },
      "execution_count": null,
      "outputs": [
        {
          "output_type": "stream",
          "name": "stdout",
          "text": [
            "Loss every 500 epochs using learning rate of 0.0001\n",
            "\n",
            "Epoch 500, \tLoss 163.438293\n",
            "Epoch 1000, \tLoss 161.446915\n",
            "Epoch 1500, \tLoss 159.478012\n",
            "Epoch 2000, \tLoss 157.530380\n",
            "Epoch 2500, \tLoss 155.602768\n",
            "Epoch 3000, \tLoss 153.694489\n",
            "Epoch 3500, \tLoss 151.804749\n",
            "Epoch 4000, \tLoss 149.932922\n",
            "Epoch 4500, \tLoss 148.078751\n",
            "Epoch 5000, \tLoss 146.241913\n"
          ]
        },
        {
          "output_type": "execute_result",
          "data": {
            "text/plain": [
              "tensor([1.4946, 1.4952, 0.4935], requires_grad=True)"
            ]
          },
          "metadata": {},
          "execution_count": 42
        }
      ]
    },
    {
      "cell_type": "code",
      "source": [
        "params_og = torch.tensor([1.0, 1.0, 0.0], requires_grad=True)\n",
        "learning_rate_6 = 0.001\n",
        "optimizer_6 = optim.Adam([params_og], lr=learning_rate_6)\n",
        "\n",
        "print('Loss every 500 epochs using learning rate of 0.001\\n')\n",
        "training_loop(\n",
        "    n_epochs = 5000,\n",
        "    optimizer = optimizer_6,\n",
        "    params = params_og,\n",
        "    t_u = t_u_stand,\n",
        "    t_c = t_c,\n",
        ")"
      ],
      "metadata": {
        "colab": {
          "base_uri": "https://localhost:8080/"
        },
        "id": "TsFrhOSlcRVM",
        "outputId": "368641d2-ad1a-4719-9dab-4692b71e31c0"
      },
      "execution_count": null,
      "outputs": [
        {
          "output_type": "stream",
          "name": "stdout",
          "text": [
            "Loss every 500 epochs using learning rate of 0.001\n",
            "\n",
            "Epoch 500, \tLoss 146.404602\n",
            "Epoch 1000, \tLoss 129.578949\n",
            "Epoch 1500, \tLoss 114.772308\n",
            "Epoch 2000, \tLoss 101.786652\n",
            "Epoch 2500, \tLoss 90.459236\n",
            "Epoch 3000, \tLoss 80.654350\n",
            "Epoch 3500, \tLoss 72.255226\n",
            "Epoch 4000, \tLoss 65.156609\n",
            "Epoch 4500, \tLoss 59.257385\n",
            "Epoch 5000, \tLoss 54.453419\n"
          ]
        },
        {
          "output_type": "execute_result",
          "data": {
            "text/plain": [
              "tensor([5.2978, 5.4165, 4.0355], requires_grad=True)"
            ]
          },
          "metadata": {},
          "execution_count": 43
        }
      ]
    },
    {
      "cell_type": "code",
      "source": [
        "params_og = torch.tensor([1.0, 1.0, 0.0], requires_grad=True)\n",
        "learning_rate_7 = 0.01\n",
        "optimizer_7 = optim.Adam([params_og], lr=learning_rate_7)\n",
        "\n",
        "print('Loss every 500 epochs using learning rate of 0.01\\n')\n",
        "training_loop(\n",
        "    n_epochs = 5000,\n",
        "    optimizer = optimizer_7,\n",
        "    params = params_og,\n",
        "    t_u = t_u_stand,\n",
        "    t_c = t_c,\n",
        ")"
      ],
      "metadata": {
        "colab": {
          "base_uri": "https://localhost:8080/"
        },
        "id": "SrjB1IEMc8Bp",
        "outputId": "6ac06e9f-fa1e-4da5-9c3f-bbefd7216523"
      },
      "execution_count": null,
      "outputs": [
        {
          "output_type": "stream",
          "name": "stdout",
          "text": [
            "Loss every 500 epochs using learning rate of 0.01\n",
            "\n",
            "Epoch 500, \tLoss 57.949375\n",
            "Epoch 1000, \tLoss 40.551365\n",
            "Epoch 1500, \tLoss 33.974369\n",
            "Epoch 2000, \tLoss 27.274963\n",
            "Epoch 2500, \tLoss 20.752810\n",
            "Epoch 3000, \tLoss 14.940594\n",
            "Epoch 3500, \tLoss 10.199280\n",
            "Epoch 4000, \tLoss 6.687758\n",
            "Epoch 4500, \tLoss 4.367293\n",
            "Epoch 5000, \tLoss 3.038020\n"
          ]
        },
        {
          "output_type": "execute_result",
          "data": {
            "text/plain": [
              "tensor([19.8351, 27.2414, -7.6692], requires_grad=True)"
            ]
          },
          "metadata": {},
          "execution_count": 44
        }
      ]
    },
    {
      "cell_type": "code",
      "source": [
        "params_og = torch.tensor([1.0, 1.0, 0.0], requires_grad=True)\n",
        "learning_rate_8 = 0.1\n",
        "optimizer_8 = optim.Adam([params_og], lr=learning_rate_8)\n",
        "\n",
        "print('Loss every 500 epochs using learning rate of 0.1\\n')\n",
        "training_loop(\n",
        "    n_epochs = 5000,\n",
        "    optimizer = optimizer_8,\n",
        "    params = params_og,\n",
        "    t_u = t_u_stand,\n",
        "    t_c = t_c,\n",
        ")"
      ],
      "metadata": {
        "colab": {
          "base_uri": "https://localhost:8080/"
        },
        "id": "pM4qIwMXdGID",
        "outputId": "fd9636f6-72e2-4713-e50e-66b351d2665b"
      },
      "execution_count": null,
      "outputs": [
        {
          "output_type": "stream",
          "name": "stdout",
          "text": [
            "Loss every 500 epochs using learning rate of 0.1\n",
            "\n",
            "Epoch 500, \tLoss 7.720606\n",
            "Epoch 1000, \tLoss 2.183957\n",
            "Epoch 1500, \tLoss 2.105043\n",
            "Epoch 2000, \tLoss 2.103428\n",
            "Epoch 2500, \tLoss 2.101665\n",
            "Epoch 3000, \tLoss 2.099716\n",
            "Epoch 3500, \tLoss 2.097688\n",
            "Epoch 4000, \tLoss 2.095724\n",
            "Epoch 4500, \tLoss 2.093984\n",
            "Epoch 5000, \tLoss 2.092600\n"
          ]
        },
        {
          "output_type": "execute_result",
          "data": {
            "text/plain": [
              "tensor([ 23.3667,  29.6354, -10.3189], requires_grad=True)"
            ]
          },
          "metadata": {},
          "execution_count": 45
        }
      ]
    },
    {
      "cell_type": "code",
      "source": [
        "params_og = torch.tensor([1.0, 1.0, 0.0], requires_grad=True)\n",
        "\n",
        "optimizer_best = optim.SGD([params_og], lr=learning_rate_4)\n",
        "\n",
        "print('Loss every 500 epochs using learning rate of 0.1\\n')\n",
        "params_best = training_loop(\n",
        "    n_epochs = 5000,\n",
        "    optimizer = optimizer_best,\n",
        "    params = params_og,\n",
        "    t_u = t_u_stand,\n",
        "    t_c = t_c,\n",
        ")\n",
        "\n",
        "print('The best parameters for problem 1 are:', params_best)"
      ],
      "metadata": {
        "colab": {
          "base_uri": "https://localhost:8080/"
        },
        "id": "bW-zOyIxstIs",
        "outputId": "79cfdb5f-51ff-48cf-db6d-491e10fb69d5"
      },
      "execution_count": null,
      "outputs": [
        {
          "output_type": "stream",
          "name": "stdout",
          "text": [
            "Loss every 500 epochs using learning rate of 0.1\n",
            "\n",
            "Epoch 500, \tLoss 2.108456\n",
            "Epoch 1000, \tLoss 2.090728\n",
            "Epoch 1500, \tLoss 2.090720\n",
            "Epoch 2000, \tLoss 2.090720\n",
            "Epoch 2500, \tLoss 2.090721\n",
            "Epoch 3000, \tLoss 2.090719\n",
            "Epoch 3500, \tLoss 2.090720\n",
            "Epoch 4000, \tLoss 2.090720\n",
            "Epoch 4500, \tLoss 2.090720\n",
            "Epoch 5000, \tLoss 2.090720\n",
            "The best parameters for problem 1 are: tensor([ 24.7210,  28.3420, -10.6403], requires_grad=True)\n"
          ]
        }
      ]
    },
    {
      "cell_type": "code",
      "source": [
        "t_p_final = model(t_u_stand, *params_best)\n",
        "w_linear = 5.3671\n",
        "b_linear = -17.3012\n",
        "t_p_linear = (w_linear * (0.1*t_u) + b_linear)\n",
        "\n",
        "order_t_u, indices = torch.sort(t_u)\n",
        "order_t_p_final, indices = torch.sort(t_p_final)\n",
        "order_t_p_linear, indices = torch.sort(t_p_linear)\n",
        "\n",
        "plt.plot(order_t_u.detach().numpy(), order_t_p_final.detach().numpy(), label=\"Non-linear model\", c='b', marker='D')\n",
        "plt.plot(order_t_u.detach().numpy(), order_t_p_linear.detach().numpy(), label=\"Linear Model\", c='g', marker='o')\n",
        "plt.scatter(t_u.detach().numpy(), t_c.detach().numpy(), label=\"Ground truth\", c='c', marker='x')\n",
        "plt.xlabel(\"Fahrenheit\")\n",
        "plt.ylabel(\"Celsius\")\n",
        "plt.legend()\n",
        "plt.title(\"Comparing Non-Linear Model Predicion to Linear Model Predictions\")\n",
        "plt.show()"
      ],
      "metadata": {
        "colab": {
          "base_uri": "https://localhost:8080/",
          "height": 472
        },
        "id": "d2dcBSnQsPrQ",
        "outputId": "67ab8a46-4ecc-4e9b-cfe4-2a0d4937e361"
      },
      "execution_count": null,
      "outputs": [
        {
          "output_type": "display_data",
          "data": {
            "text/plain": [
              "<Figure size 640x480 with 1 Axes>"
            ],
            "image/png": "[encoded data removed]"
          },
          "metadata": {}
        }
      ]
    }
  ]
}