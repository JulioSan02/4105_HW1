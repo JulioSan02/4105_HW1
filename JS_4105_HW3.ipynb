{
  "nbformat": 4,
  "nbformat_minor": 0,
  "metadata": {
    "colab": {
      "provenance": [],
      "authorship_tag": "ABX9TyPrLI49xc9H8d27oQs4+GjN",
      "include_colab_link": true
    },
    "kernelspec": {
      "name": "python3",
      "display_name": "Python 3"
    },
    "language_info": {
      "name": "python"
    }
  },
  "cells": [
    {
      "cell_type": "markdown",
      "metadata": {
        "id": "view-in-github",
        "colab_type": "text"
      },
      "source": [
        "<a href=\"https://colab.research.google.com/github/JulioSan02/UNCC/blob/4105/JS_4105_HW3.ipynb\" target=\"_parent\"><img src=\"https://colab.research.google.com/assets/colab-badge.svg\" alt=\"Open In Colab\"/></a>"
      ]
    },
    {
      "cell_type": "code",
      "source": [
        "# Note: You can use the built-in function from ML libraries for gradient descent, training, and validation.\n",
        "# Ignore: \"Report the classification accuracy over iterations\".\n",
        "\n",
        "import numpy as np\n",
        "np.set_printoptions(suppress=True)\n",
        "import matplotlib.pyplot as plt\n",
        "import pandas as pd\n",
        "from google.colab import drive\n",
        "from sklearn.model_selection import train_test_split\n",
        "from sklearn.preprocessing import StandardScaler\n",
        "from sklearn.linear_model import LogisticRegression\n",
        "from sklearn.metrics import confusion_matrix\n",
        "from sklearn import metrics\n",
        "import seaborn as sns\n",
        "from sklearn.naive_bayes import GaussianNB\n",
        "from sklearn.decomposition import PCA\n",
        "\n",
        "drive.mount('/content/drive')\n",
        "\n",
        "file_path_1 = '/content/drive/MyDrive/Colab_Notebooks/Data/diabetes.csv'\n",
        "dataset_1 = pd.DataFrame(pd.read_csv(file_path_1))\n",
        "dataset_1.head()"
      ],
      "metadata": {
        "colab": {
          "base_uri": "https://localhost:8080/",
          "height": 223
        },
        "id": "dUkCWAJDsDLn",
        "outputId": "a916e0b1-9b31-46d2-c11b-5b7be913dff4"
      },
      "execution_count": 38,
      "outputs": [
        {
          "output_type": "stream",
          "name": "stdout",
          "text": [
            "Drive already mounted at /content/drive; to attempt to forcibly remount, call drive.mount(\"/content/drive\", force_remount=True).\n"
          ]
        },
        {
          "output_type": "execute_result",
          "data": {
            "text/plain": [
              "   Pregnancies  Glucose  BloodPressure  SkinThickness  Insulin   BMI  \\\n",
              "0            6      148             72             35        0  33.6   \n",
              "1            1       85             66             29        0  26.6   \n",
              "2            8      183             64              0        0  23.3   \n",
              "3            1       89             66             23       94  28.1   \n",
              "4            0      137             40             35      168  43.1   \n",
              "\n",
              "   DiabetesPedigreeFunction  Age  Outcome  \n",
              "0                     0.627   50        1  \n",
              "1                     0.351   31        0  \n",
              "2                     0.672   32        1  \n",
              "3                     0.167   21        0  \n",
              "4                     2.288   33        1  "
            ],
            "text/html": [
              "\n",
              "  <div id=\"df-c0f72909-485d-4005-8ebb-cd977f1df610\" class=\"colab-df-container\">\n",
              "    <div>\n",
              "<style scoped>\n",
              "    .dataframe tbody tr th:only-of-type {\n",
              "        vertical-align: middle;\n",
              "    }\n",
              "\n",
              "    .dataframe tbody tr th {\n",
              "        vertical-align: top;\n",
              "    }\n",
              "\n",
              "    .dataframe thead th {\n",
              "        text-align: right;\n",
              "    }\n",
              "</style>\n",
              "<table border=\"1\" class=\"dataframe\">\n",
              "  <thead>\n",
              "    <tr style=\"text-align: right;\">\n",
              "      <th></th>\n",
              "      <th>Pregnancies</th>\n",
              "      <th>Glucose</th>\n",
              "      <th>BloodPressure</th>\n",
              "      <th>SkinThickness</th>\n",
              "      <th>Insulin</th>\n",
              "      <th>BMI</th>\n",
              "      <th>DiabetesPedigreeFunction</th>\n",
              "      <th>Age</th>\n",
              "      <th>Outcome</th>\n",
              "    </tr>\n",
              "  </thead>\n",
              "  <tbody>\n",
              "    <tr>\n",
              "      <th>0</th>\n",
              "      <td>6</td>\n",
              "      <td>148</td>\n",
              "      <td>72</td>\n",
              "      <td>35</td>\n",
              "      <td>0</td>\n",
              "      <td>33.6</td>\n",
              "      <td>0.627</td>\n",
              "      <td>50</td>\n",
              "      <td>1</td>\n",
              "    </tr>\n",
              "    <tr>\n",
              "      <th>1</th>\n",
              "      <td>1</td>\n",
              "      <td>85</td>\n",
              "      <td>66</td>\n",
              "      <td>29</td>\n",
              "      <td>0</td>\n",
              "      <td>26.6</td>\n",
              "      <td>0.351</td>\n",
              "      <td>31</td>\n",
              "      <td>0</td>\n",
              "    </tr>\n",
              "    <tr>\n",
              "      <th>2</th>\n",
              "      <td>8</td>\n",
              "      <td>183</td>\n",
              "      <td>64</td>\n",
              "      <td>0</td>\n",
              "      <td>0</td>\n",
              "      <td>23.3</td>\n",
              "      <td>0.672</td>\n",
              "      <td>32</td>\n",
              "      <td>1</td>\n",
              "    </tr>\n",
              "    <tr>\n",
              "      <th>3</th>\n",
              "      <td>1</td>\n",
              "      <td>89</td>\n",
              "      <td>66</td>\n",
              "      <td>23</td>\n",
              "      <td>94</td>\n",
              "      <td>28.1</td>\n",
              "      <td>0.167</td>\n",
              "      <td>21</td>\n",
              "      <td>0</td>\n",
              "    </tr>\n",
              "    <tr>\n",
              "      <th>4</th>\n",
              "      <td>0</td>\n",
              "      <td>137</td>\n",
              "      <td>40</td>\n",
              "      <td>35</td>\n",
              "      <td>168</td>\n",
              "      <td>43.1</td>\n",
              "      <td>2.288</td>\n",
              "      <td>33</td>\n",
              "      <td>1</td>\n",
              "    </tr>\n",
              "  </tbody>\n",
              "</table>\n",
              "</div>\n",
              "    <div class=\"colab-df-buttons\">\n",
              "\n",
              "  <div class=\"colab-df-container\">\n",
              "    <button class=\"colab-df-convert\" onclick=\"convertToInteractive('df-c0f72909-485d-4005-8ebb-cd977f1df610')\"\n",
              "            title=\"Convert this dataframe to an interactive table.\"\n",
              "            style=\"display:none;\">\n",
              "\n",
              "  <svg xmlns=\"http://www.w3.org/2000/svg\" height=\"24px\" viewBox=\"0 -960 960 960\">\n",
              "    <path d=\"M120-120v-720h720v720H120Zm60-500h600v-160H180v160Zm220 220h160v-160H400v160Zm0 220h160v-160H400v160ZM180-400h160v-160H180v160Zm440 0h160v-160H620v160ZM180-180h160v-160H180v160Zm440 0h160v-160H620v160Z\"/>\n",
              "  </svg>\n",
              "    </button>\n",
              "\n",
              "  <style>\n",
              "    .colab-df-container {\n",
              "      display:flex;\n",
              "      gap: 12px;\n",
              "    }\n",
              "\n",
              "    .colab-df-convert {\n",
              "      background-color: #E8F0FE;\n",
              "      border: none;\n",
              "      border-radius: 50%;\n",
              "      cursor: pointer;\n",
              "      display: none;\n",
              "      fill: #1967D2;\n",
              "      height: 32px;\n",
              "      padding: 0 0 0 0;\n",
              "      width: 32px;\n",
              "    }\n",
              "\n",
              "    .colab-df-convert:hover {\n",
              "      background-color: #E2EBFA;\n",
              "      box-shadow: 0px 1px 2px rgba(60, 64, 67, 0.3), 0px 1px 3px 1px rgba(60, 64, 67, 0.15);\n",
              "      fill: #174EA6;\n",
              "    }\n",
              "\n",
              "    .colab-df-buttons div {\n",
              "      margin-bottom: 4px;\n",
              "    }\n",
              "\n",
              "    [theme=dark] .colab-df-convert {\n",
              "      background-color: #3B4455;\n",
              "      fill: #D2E3FC;\n",
              "    }\n",
              "\n",
              "    [theme=dark] .colab-df-convert:hover {\n",
              "      background-color: #434B5C;\n",
              "      box-shadow: 0px 1px 3px 1px rgba(0, 0, 0, 0.15);\n",
              "      filter: drop-shadow(0px 1px 2px rgba(0, 0, 0, 0.3));\n",
              "      fill: #FFFFFF;\n",
              "    }\n",
              "  </style>\n",
              "\n",
              "    <script>\n",
              "      const buttonEl =\n",
              "        document.querySelector('#df-c0f72909-485d-4005-8ebb-cd977f1df610 button.colab-df-convert');\n",
              "      buttonEl.style.display =\n",
              "        google.colab.kernel.accessAllowed ? 'block' : 'none';\n",
              "\n",
              "      async function convertToInteractive(key) {\n",
              "        const element = document.querySelector('#df-c0f72909-485d-4005-8ebb-cd977f1df610');\n",
              "        const dataTable =\n",
              "          await google.colab.kernel.invokeFunction('convertToInteractive',\n",
              "                                                    [key], {});\n",
              "        if (!dataTable) return;\n",
              "\n",
              "        const docLinkHtml = 'Like what you see? Visit the ' +\n",
              "          '<a target=\"_blank\" href=https://colab.research.google.com/notebooks/data_table.ipynb>data table notebook</a>'\n",
              "          + ' to learn more about interactive tables.';\n",
              "        element.innerHTML = '';\n",
              "        dataTable['output_type'] = 'display_data';\n",
              "        await google.colab.output.renderOutput(dataTable, element);\n",
              "        const docLink = document.createElement('div');\n",
              "        docLink.innerHTML = docLinkHtml;\n",
              "        element.appendChild(docLink);\n",
              "      }\n",
              "    </script>\n",
              "  </div>\n",
              "\n",
              "\n",
              "<div id=\"df-1f3a2333-5d63-4375-9c14-d434f0aab316\">\n",
              "  <button class=\"colab-df-quickchart\" onclick=\"quickchart('df-1f3a2333-5d63-4375-9c14-d434f0aab316')\"\n",
              "            title=\"Suggest charts.\"\n",
              "            style=\"display:none;\">\n",
              "\n",
              "<svg xmlns=\"http://www.w3.org/2000/svg\" height=\"24px\"viewBox=\"0 0 24 24\"\n",
              "     width=\"24px\">\n",
              "    <g>\n",
              "        <path d=\"M19 3H5c-1.1 0-2 .9-2 2v14c0 1.1.9 2 2 2h14c1.1 0 2-.9 2-2V5c0-1.1-.9-2-2-2zM9 17H7v-7h2v7zm4 0h-2V7h2v10zm4 0h-2v-4h2v4z\"/>\n",
              "    </g>\n",
              "</svg>\n",
              "  </button>\n",
              "\n",
              "<style>\n",
              "  .colab-df-quickchart {\n",
              "      --bg-color: #E8F0FE;\n",
              "      --fill-color: #1967D2;\n",
              "      --hover-bg-color: #E2EBFA;\n",
              "      --hover-fill-color: #174EA6;\n",
              "      --disabled-fill-color: #AAA;\n",
              "      --disabled-bg-color: #DDD;\n",
              "  }\n",
              "\n",
              "  [theme=dark] .colab-df-quickchart {\n",
              "      --bg-color: #3B4455;\n",
              "      --fill-color: #D2E3FC;\n",
              "      --hover-bg-color: #434B5C;\n",
              "      --hover-fill-color: #FFFFFF;\n",
              "      --disabled-bg-color: #3B4455;\n",
              "      --disabled-fill-color: #666;\n",
              "  }\n",
              "\n",
              "  .colab-df-quickchart {\n",
              "    background-color: var(--bg-color);\n",
              "    border: none;\n",
              "    border-radius: 50%;\n",
              "    cursor: pointer;\n",
              "    display: none;\n",
              "    fill: var(--fill-color);\n",
              "    height: 32px;\n",
              "    padding: 0;\n",
              "    width: 32px;\n",
              "  }\n",
              "\n",
              "  .colab-df-quickchart:hover {\n",
              "    background-color: var(--hover-bg-color);\n",
              "    box-shadow: 0 1px 2px rgba(60, 64, 67, 0.3), 0 1px 3px 1px rgba(60, 64, 67, 0.15);\n",
              "    fill: var(--button-hover-fill-color);\n",
              "  }\n",
              "\n",
              "  .colab-df-quickchart-complete:disabled,\n",
              "  .colab-df-quickchart-complete:disabled:hover {\n",
              "    background-color: var(--disabled-bg-color);\n",
              "    fill: var(--disabled-fill-color);\n",
              "    box-shadow: none;\n",
              "  }\n",
              "\n",
              "  .colab-df-spinner {\n",
              "    border: 2px solid var(--fill-color);\n",
              "    border-color: transparent;\n",
              "    border-bottom-color: var(--fill-color);\n",
              "    animation:\n",
              "      spin 1s steps(1) infinite;\n",
              "  }\n",
              "\n",
              "  @keyframes spin {\n",
              "    0% {\n",
              "      border-color: transparent;\n",
              "      border-bottom-color: var(--fill-color);\n",
              "      border-left-color: var(--fill-color);\n",
              "    }\n",
              "    20% {\n",
              "      border-color: transparent;\n",
              "      border-left-color: var(--fill-color);\n",
              "      border-top-color: var(--fill-color);\n",
              "    }\n",
              "    30% {\n",
              "      border-color: transparent;\n",
              "      border-left-color: var(--fill-color);\n",
              "      border-top-color: var(--fill-color);\n",
              "      border-right-color: var(--fill-color);\n",
              "    }\n",
              "    40% {\n",
              "      border-color: transparent;\n",
              "      border-right-color: var(--fill-color);\n",
              "      border-top-color: var(--fill-color);\n",
              "    }\n",
              "    60% {\n",
              "      border-color: transparent;\n",
              "      border-right-color: var(--fill-color);\n",
              "    }\n",
              "    80% {\n",
              "      border-color: transparent;\n",
              "      border-right-color: var(--fill-color);\n",
              "      border-bottom-color: var(--fill-color);\n",
              "    }\n",
              "    90% {\n",
              "      border-color: transparent;\n",
              "      border-bottom-color: var(--fill-color);\n",
              "    }\n",
              "  }\n",
              "</style>\n",
              "\n",
              "  <script>\n",
              "    async function quickchart(key) {\n",
              "      const quickchartButtonEl =\n",
              "        document.querySelector('#' + key + ' button');\n",
              "      quickchartButtonEl.disabled = true;  // To prevent multiple clicks.\n",
              "      quickchartButtonEl.classList.add('colab-df-spinner');\n",
              "      try {\n",
              "        const charts = await google.colab.kernel.invokeFunction(\n",
              "            'suggestCharts', [key], {});\n",
              "      } catch (error) {\n",
              "        console.error('Error during call to suggestCharts:', error);\n",
              "      }\n",
              "      quickchartButtonEl.classList.remove('colab-df-spinner');\n",
              "      quickchartButtonEl.classList.add('colab-df-quickchart-complete');\n",
              "    }\n",
              "    (() => {\n",
              "      let quickchartButtonEl =\n",
              "        document.querySelector('#df-1f3a2333-5d63-4375-9c14-d434f0aab316 button');\n",
              "      quickchartButtonEl.style.display =\n",
              "        google.colab.kernel.accessAllowed ? 'block' : 'none';\n",
              "    })();\n",
              "  </script>\n",
              "</div>\n",
              "    </div>\n",
              "  </div>\n"
            ]
          },
          "metadata": {},
          "execution_count": 38
        }
      ]
    },
    {
      "cell_type": "code",
      "source": [
        "# Consider pregnancies, glucose, blood pressure, skin thickness, insulin, BMI,\n",
        "# pedigree function, and age as independent variables (X1, X2, X3, X4, X5, X6, X7, X8)\n",
        "# Consider outcome (having or not having diabetes) as the dependent Variable (Y).\n",
        "X_1 = dataset_1.iloc[:, [0,1,2,3,4,5,6,7]].values\n",
        "Y_1 = dataset_1.iloc[:, 8].values\n"
      ],
      "metadata": {
        "id": "pgVTvArFtzAg"
      },
      "execution_count": 39,
      "outputs": []
    },
    {
      "cell_type": "code",
      "source": [
        "# Split our Data set into Training Data and Test Data. Training data trains\n",
        "# logistic model and test data validates logistic model.\n",
        "# train_test_split from sklearn.model_selection will be used to split data.\n",
        "X_train_1, X_test_1, Y_train_1, Y_test_1 = train_test_split(X_1, Y_1, test_size = 0.2, random_state = 0)\n",
        "\n",
        "# Use standard scaling from sSklearn to scale data between -_1 and _1 for better accuracy.\n",
        "scale = StandardScaler()\n",
        "X_train_1 = scale.fit_transform(X_train_1)\n",
        "X_test_1 = scale.transform(X_test_1)\n",
        "\n",
        "# Import LogisticRegression from sklearn.linear_model.\n",
        "# Make an instance classifier of object LogisticRegression and give random_state =  0.\n",
        "classifier_1 = LogisticRegression(penalty = None, random_state=0)\n",
        "classifier_1.fit(X_train_1, Y_train_1)\n",
        "\n",
        "Y_pred_1 = classifier_1.predict(X_test_1)\n"
      ],
      "metadata": {
        "id": "iPoilCGEwGHp"
      },
      "execution_count": 40,
      "outputs": []
    },
    {
      "cell_type": "code",
      "source": [
        "# Use confusion matrix to get accuracy of model.\n",
        "cnf_matrix_1 = confusion_matrix(Y_test_1, Y_pred_1)\n",
        "cnf_matrix_1"
      ],
      "metadata": {
        "id": "bkw1PQv8xUhi",
        "colab": {
          "base_uri": "https://localhost:8080/"
        },
        "outputId": "004eb4fa-0354-47cf-b61e-a488bab75edf"
      },
      "execution_count": 41,
      "outputs": [
        {
          "output_type": "execute_result",
          "data": {
            "text/plain": [
              "array([[98,  9],\n",
              "       [18, 29]])"
            ]
          },
          "metadata": {},
          "execution_count": 41
        }
      ]
    },
    {
      "cell_type": "code",
      "source": [
        "# Evaluate model using model evaluation metrics: accuracy, precision, recall, F_1 score.\n",
        "\n",
        "recall_1 = metrics.recall_score(Y_test_1, Y_pred_1)\n",
        "precision_1 = metrics.precision_score(Y_test_1, Y_pred_1)\n",
        "accuracy_1 = metrics.accuracy_score(Y_test_1, Y_pred_1)\n",
        "\n",
        "print(\"Recall for problem 1:\", recall_1)\n",
        "print(\"Precision for problem 1:\", precision_1)\n",
        "print(\"Accuracy for problem 1:\", accuracy_1)\n",
        "\n",
        "F1_score_1 = (2*recall_1*precision_1)/(recall_1+precision_1)\n",
        "\n",
        "print(\"F1 score for problem 1:\", F1_score_1)"
      ],
      "metadata": {
        "id": "wUquM6fnxiwf",
        "colab": {
          "base_uri": "https://localhost:8080/"
        },
        "outputId": "16a5e0f5-02b5-45ea-ab45-48a9058eef7d"
      },
      "execution_count": 42,
      "outputs": [
        {
          "output_type": "stream",
          "name": "stdout",
          "text": [
            "Recall for problem 1: 0.6170212765957447\n",
            "Precision for problem 1: 0.7631578947368421\n",
            "Accuracy for problem 1: 0.8246753246753247\n",
            "F1 score for problem 1: 0.6823529411764706\n"
          ]
        }
      ]
    },
    {
      "cell_type": "code",
      "source": [
        "# Visualize results of model in form of a confusion matrix using matplotlib, seaborn, and heatmap.\n",
        "\n",
        "class_names=[0,1] # name  of classes\n",
        "fig, ax = plt.subplots()\n",
        "tick_marks = np.arange(len(class_names))\n",
        "plt.xticks(tick_marks, class_names)\n",
        "plt.yticks(tick_marks, class_names)\n",
        "# create heatmap\n",
        "sns.heatmap(pd.DataFrame(cnf_matrix_1), annot=True, cmap=\"bone_r\" ,fmt='g')\n",
        "ax.xaxis.set_label_position(\"top\")\n",
        "plt.tight_layout()\n",
        "plt.title('Confusion matrix for 1', y=1.1)\n",
        "plt.ylabel('Actual label')\n",
        "plt.xlabel('Predicted label')"
      ],
      "metadata": {
        "id": "tqE7nj3kW0yL",
        "colab": {
          "base_uri": "https://localhost:8080/",
          "height": 568
        },
        "outputId": "8432933d-12d5-499b-8c18-42b412dff01f"
      },
      "execution_count": 43,
      "outputs": [
        {
          "output_type": "execute_result",
          "data": {
            "text/plain": [
              "Text(0.5, 427.9555555555555, 'Predicted label')"
            ]
          },
          "metadata": {},
          "execution_count": 43
        },
        {
          "output_type": "display_data",
          "data": {
            "text/plain": [
              "<Figure size 640x480 with 2 Axes>"
            ],
            "image/png": "[encoded data removed]"
          },
          "metadata": {}
        }
      ]
    },
    {
      "cell_type": "code",
      "source": [
        "# Import new cancer dataset\n",
        "file_path_2 = '/content/drive/MyDrive/Colab_Notebooks/Data/cancer.csv'\n",
        "dataset_2 = pd.DataFrame(pd.read_csv(file_path_2))\n",
        "dataset_2.head()"
      ],
      "metadata": {
        "id": "WLQn0Fa4ZeXX",
        "colab": {
          "base_uri": "https://localhost:8080/",
          "height": 273
        },
        "outputId": "4ebefdc2-caf2-4cf2-cc3a-8090597d95e3"
      },
      "execution_count": 44,
      "outputs": [
        {
          "output_type": "execute_result",
          "data": {
            "text/plain": [
              "         id diagnosis  radius_mean  texture_mean  perimeter_mean  area_mean  \\\n",
              "0    842302         M        17.99         10.38          122.80     1001.0   \n",
              "1    842517         M        20.57         17.77          132.90     1326.0   \n",
              "2  84300903         M        19.69         21.25          130.00     1203.0   \n",
              "3  84348301         M        11.42         20.38           77.58      386.1   \n",
              "4  84358402         M        20.29         14.34          135.10     1297.0   \n",
              "\n",
              "   smoothness_mean  compactness_mean  concavity_mean  concave points_mean  \\\n",
              "0          0.11840           0.27760          0.3001              0.14710   \n",
              "1          0.08474           0.07864          0.0869              0.07017   \n",
              "2          0.10960           0.15990          0.1974              0.12790   \n",
              "3          0.14250           0.28390          0.2414              0.10520   \n",
              "4          0.10030           0.13280          0.1980              0.10430   \n",
              "\n",
              "   ...  texture_worst  perimeter_worst  area_worst  smoothness_worst  \\\n",
              "0  ...          17.33           184.60      2019.0            0.1622   \n",
              "1  ...          23.41           158.80      1956.0            0.1238   \n",
              "2  ...          25.53           152.50      1709.0            0.1444   \n",
              "3  ...          26.50            98.87       567.7            0.2098   \n",
              "4  ...          16.67           152.20      1575.0            0.1374   \n",
              "\n",
              "   compactness_worst  concavity_worst  concave points_worst  symmetry_worst  \\\n",
              "0             0.6656           0.7119                0.2654          0.4601   \n",
              "1             0.1866           0.2416                0.1860          0.2750   \n",
              "2             0.4245           0.4504                0.2430          0.3613   \n",
              "3             0.8663           0.6869                0.2575          0.6638   \n",
              "4             0.2050           0.4000                0.1625          0.2364   \n",
              "\n",
              "   fractal_dimension_worst  Unnamed: 32  \n",
              "0                  0.11890          NaN  \n",
              "1                  0.08902          NaN  \n",
              "2                  0.08758          NaN  \n",
              "3                  0.17300          NaN  \n",
              "4                  0.07678          NaN  \n",
              "\n",
              "[5 rows x 33 columns]"
            ],
            "text/html": [
              "\n",
              "  <div id=\"df-15b33a1f-ace5-4209-9497-a5e1c5974d77\" class=\"colab-df-container\">\n",
              "    <div>\n",
              "<style scoped>\n",
              "    .dataframe tbody tr th:only-of-type {\n",
              "        vertical-align: middle;\n",
              "    }\n",
              "\n",
              "    .dataframe tbody tr th {\n",
              "        vertical-align: top;\n",
              "    }\n",
              "\n",
              "    .dataframe thead th {\n",
              "        text-align: right;\n",
              "    }\n",
              "</style>\n",
              "<table border=\"1\" class=\"dataframe\">\n",
              "  <thead>\n",
              "    <tr style=\"text-align: right;\">\n",
              "      <th></th>\n",
              "      <th>id</th>\n",
              "      <th>diagnosis</th>\n",
              "      <th>radius_mean</th>\n",
              "      <th>texture_mean</th>\n",
              "      <th>perimeter_mean</th>\n",
              "      <th>area_mean</th>\n",
              "      <th>smoothness_mean</th>\n",
              "      <th>compactness_mean</th>\n",
              "      <th>concavity_mean</th>\n",
              "      <th>concave points_mean</th>\n",
              "      <th>...</th>\n",
              "      <th>texture_worst</th>\n",
              "      <th>perimeter_worst</th>\n",
              "      <th>area_worst</th>\n",
              "      <th>smoothness_worst</th>\n",
              "      <th>compactness_worst</th>\n",
              "      <th>concavity_worst</th>\n",
              "      <th>concave points_worst</th>\n",
              "      <th>symmetry_worst</th>\n",
              "      <th>fractal_dimension_worst</th>\n",
              "      <th>Unnamed: 32</th>\n",
              "    </tr>\n",
              "  </thead>\n",
              "  <tbody>\n",
              "    <tr>\n",
              "      <th>0</th>\n",
              "      <td>842302</td>\n",
              "      <td>M</td>\n",
              "      <td>17.99</td>\n",
              "      <td>10.38</td>\n",
              "      <td>122.80</td>\n",
              "      <td>1001.0</td>\n",
              "      <td>0.11840</td>\n",
              "      <td>0.27760</td>\n",
              "      <td>0.3001</td>\n",
              "      <td>0.14710</td>\n",
              "      <td>...</td>\n",
              "      <td>17.33</td>\n",
              "      <td>184.60</td>\n",
              "      <td>2019.0</td>\n",
              "      <td>0.1622</td>\n",
              "      <td>0.6656</td>\n",
              "      <td>0.7119</td>\n",
              "      <td>0.2654</td>\n",
              "      <td>0.4601</td>\n",
              "      <td>0.11890</td>\n",
              "      <td>NaN</td>\n",
              "    </tr>\n",
              "    <tr>\n",
              "      <th>1</th>\n",
              "      <td>842517</td>\n",
              "      <td>M</td>\n",
              "      <td>20.57</td>\n",
              "      <td>17.77</td>\n",
              "      <td>132.90</td>\n",
              "      <td>1326.0</td>\n",
              "      <td>0.08474</td>\n",
              "      <td>0.07864</td>\n",
              "      <td>0.0869</td>\n",
              "      <td>0.07017</td>\n",
              "      <td>...</td>\n",
              "      <td>23.41</td>\n",
              "      <td>158.80</td>\n",
              "      <td>1956.0</td>\n",
              "      <td>0.1238</td>\n",
              "      <td>0.1866</td>\n",
              "      <td>0.2416</td>\n",
              "      <td>0.1860</td>\n",
              "      <td>0.2750</td>\n",
              "      <td>0.08902</td>\n",
              "      <td>NaN</td>\n",
              "    </tr>\n",
              "    <tr>\n",
              "      <th>2</th>\n",
              "      <td>84300903</td>\n",
              "      <td>M</td>\n",
              "      <td>19.69</td>\n",
              "      <td>21.25</td>\n",
              "      <td>130.00</td>\n",
              "      <td>1203.0</td>\n",
              "      <td>0.10960</td>\n",
              "      <td>0.15990</td>\n",
              "      <td>0.1974</td>\n",
              "      <td>0.12790</td>\n",
              "      <td>...</td>\n",
              "      <td>25.53</td>\n",
              "      <td>152.50</td>\n",
              "      <td>1709.0</td>\n",
              "      <td>0.1444</td>\n",
              "      <td>0.4245</td>\n",
              "      <td>0.4504</td>\n",
              "      <td>0.2430</td>\n",
              "      <td>0.3613</td>\n",
              "      <td>0.08758</td>\n",
              "      <td>NaN</td>\n",
              "    </tr>\n",
              "    <tr>\n",
              "      <th>3</th>\n",
              "      <td>84348301</td>\n",
              "      <td>M</td>\n",
              "      <td>11.42</td>\n",
              "      <td>20.38</td>\n",
              "      <td>77.58</td>\n",
              "      <td>386.1</td>\n",
              "      <td>0.14250</td>\n",
              "      <td>0.28390</td>\n",
              "      <td>0.2414</td>\n",
              "      <td>0.10520</td>\n",
              "      <td>...</td>\n",
              "      <td>26.50</td>\n",
              "      <td>98.87</td>\n",
              "      <td>567.7</td>\n",
              "      <td>0.2098</td>\n",
              "      <td>0.8663</td>\n",
              "      <td>0.6869</td>\n",
              "      <td>0.2575</td>\n",
              "      <td>0.6638</td>\n",
              "      <td>0.17300</td>\n",
              "      <td>NaN</td>\n",
              "    </tr>\n",
              "    <tr>\n",
              "      <th>4</th>\n",
              "      <td>84358402</td>\n",
              "      <td>M</td>\n",
              "      <td>20.29</td>\n",
              "      <td>14.34</td>\n",
              "      <td>135.10</td>\n",
              "      <td>1297.0</td>\n",
              "      <td>0.10030</td>\n",
              "      <td>0.13280</td>\n",
              "      <td>0.1980</td>\n",
              "      <td>0.10430</td>\n",
              "      <td>...</td>\n",
              "      <td>16.67</td>\n",
              "      <td>152.20</td>\n",
              "      <td>1575.0</td>\n",
              "      <td>0.1374</td>\n",
              "      <td>0.2050</td>\n",
              "      <td>0.4000</td>\n",
              "      <td>0.1625</td>\n",
              "      <td>0.2364</td>\n",
              "      <td>0.07678</td>\n",
              "      <td>NaN</td>\n",
              "    </tr>\n",
              "  </tbody>\n",
              "</table>\n",
              "<p>5 rows × 33 columns</p>\n",
              "</div>\n",
              "    <div class=\"colab-df-buttons\">\n",
              "\n",
              "  <div class=\"colab-df-container\">\n",
              "    <button class=\"colab-df-convert\" onclick=\"convertToInteractive('df-15b33a1f-ace5-4209-9497-a5e1c5974d77')\"\n",
              "            title=\"Convert this dataframe to an interactive table.\"\n",
              "            style=\"display:none;\">\n",
              "\n",
              "  <svg xmlns=\"http://www.w3.org/2000/svg\" height=\"24px\" viewBox=\"0 -960 960 960\">\n",
              "    <path d=\"M120-120v-720h720v720H120Zm60-500h600v-160H180v160Zm220 220h160v-160H400v160Zm0 220h160v-160H400v160ZM180-400h160v-160H180v160Zm440 0h160v-160H620v160ZM180-180h160v-160H180v160Zm440 0h160v-160H620v160Z\"/>\n",
              "  </svg>\n",
              "    </button>\n",
              "\n",
              "  <style>\n",
              "    .colab-df-container {\n",
              "      display:flex;\n",
              "      gap: 12px;\n",
              "    }\n",
              "\n",
              "    .colab-df-convert {\n",
              "      background-color: #E8F0FE;\n",
              "      border: none;\n",
              "      border-radius: 50%;\n",
              "      cursor: pointer;\n",
              "      display: none;\n",
              "      fill: #1967D2;\n",
              "      height: 32px;\n",
              "      padding: 0 0 0 0;\n",
              "      width: 32px;\n",
              "    }\n",
              "\n",
              "    .colab-df-convert:hover {\n",
              "      background-color: #E2EBFA;\n",
              "      box-shadow: 0px 1px 2px rgba(60, 64, 67, 0.3), 0px 1px 3px 1px rgba(60, 64, 67, 0.15);\n",
              "      fill: #174EA6;\n",
              "    }\n",
              "\n",
              "    .colab-df-buttons div {\n",
              "      margin-bottom: 4px;\n",
              "    }\n",
              "\n",
              "    [theme=dark] .colab-df-convert {\n",
              "      background-color: #3B4455;\n",
              "      fill: #D2E3FC;\n",
              "    }\n",
              "\n",
              "    [theme=dark] .colab-df-convert:hover {\n",
              "      background-color: #434B5C;\n",
              "      box-shadow: 0px 1px 3px 1px rgba(0, 0, 0, 0.15);\n",
              "      filter: drop-shadow(0px 1px 2px rgba(0, 0, 0, 0.3));\n",
              "      fill: #FFFFFF;\n",
              "    }\n",
              "  </style>\n",
              "\n",
              "    <script>\n",
              "      const buttonEl =\n",
              "        document.querySelector('#df-15b33a1f-ace5-4209-9497-a5e1c5974d77 button.colab-df-convert');\n",
              "      buttonEl.style.display =\n",
              "        google.colab.kernel.accessAllowed ? 'block' : 'none';\n",
              "\n",
              "      async function convertToInteractive(key) {\n",
              "        const element = document.querySelector('#df-15b33a1f-ace5-4209-9497-a5e1c5974d77');\n",
              "        const dataTable =\n",
              "          await google.colab.kernel.invokeFunction('convertToInteractive',\n",
              "                                                    [key], {});\n",
              "        if (!dataTable) return;\n",
              "\n",
              "        const docLinkHtml = 'Like what you see? Visit the ' +\n",
              "          '<a target=\"_blank\" href=https://colab.research.google.com/notebooks/data_table.ipynb>data table notebook</a>'\n",
              "          + ' to learn more about interactive tables.';\n",
              "        element.innerHTML = '';\n",
              "        dataTable['output_type'] = 'display_data';\n",
              "        await google.colab.output.renderOutput(dataTable, element);\n",
              "        const docLink = document.createElement('div');\n",
              "        docLink.innerHTML = docLinkHtml;\n",
              "        element.appendChild(docLink);\n",
              "      }\n",
              "    </script>\n",
              "  </div>\n",
              "\n",
              "\n",
              "<div id=\"df-538fdec9-2f3d-4b5c-8870-e7c6c0d2994e\">\n",
              "  <button class=\"colab-df-quickchart\" onclick=\"quickchart('df-538fdec9-2f3d-4b5c-8870-e7c6c0d2994e')\"\n",
              "            title=\"Suggest charts.\"\n",
              "            style=\"display:none;\">\n",
              "\n",
              "<svg xmlns=\"http://www.w3.org/2000/svg\" height=\"24px\"viewBox=\"0 0 24 24\"\n",
              "     width=\"24px\">\n",
              "    <g>\n",
              "        <path d=\"M19 3H5c-1.1 0-2 .9-2 2v14c0 1.1.9 2 2 2h14c1.1 0 2-.9 2-2V5c0-1.1-.9-2-2-2zM9 17H7v-7h2v7zm4 0h-2V7h2v10zm4 0h-2v-4h2v4z\"/>\n",
              "    </g>\n",
              "</svg>\n",
              "  </button>\n",
              "\n",
              "<style>\n",
              "  .colab-df-quickchart {\n",
              "      --bg-color: #E8F0FE;\n",
              "      --fill-color: #1967D2;\n",
              "      --hover-bg-color: #E2EBFA;\n",
              "      --hover-fill-color: #174EA6;\n",
              "      --disabled-fill-color: #AAA;\n",
              "      --disabled-bg-color: #DDD;\n",
              "  }\n",
              "\n",
              "  [theme=dark] .colab-df-quickchart {\n",
              "      --bg-color: #3B4455;\n",
              "      --fill-color: #D2E3FC;\n",
              "      --hover-bg-color: #434B5C;\n",
              "      --hover-fill-color: #FFFFFF;\n",
              "      --disabled-bg-color: #3B4455;\n",
              "      --disabled-fill-color: #666;\n",
              "  }\n",
              "\n",
              "  .colab-df-quickchart {\n",
              "    background-color: var(--bg-color);\n",
              "    border: none;\n",
              "    border-radius: 50%;\n",
              "    cursor: pointer;\n",
              "    display: none;\n",
              "    fill: var(--fill-color);\n",
              "    height: 32px;\n",
              "    padding: 0;\n",
              "    width: 32px;\n",
              "  }\n",
              "\n",
              "  .colab-df-quickchart:hover {\n",
              "    background-color: var(--hover-bg-color);\n",
              "    box-shadow: 0 1px 2px rgba(60, 64, 67, 0.3), 0 1px 3px 1px rgba(60, 64, 67, 0.15);\n",
              "    fill: var(--button-hover-fill-color);\n",
              "  }\n",
              "\n",
              "  .colab-df-quickchart-complete:disabled,\n",
              "  .colab-df-quickchart-complete:disabled:hover {\n",
              "    background-color: var(--disabled-bg-color);\n",
              "    fill: var(--disabled-fill-color);\n",
              "    box-shadow: none;\n",
              "  }\n",
              "\n",
              "  .colab-df-spinner {\n",
              "    border: 2px solid var(--fill-color);\n",
              "    border-color: transparent;\n",
              "    border-bottom-color: var(--fill-color);\n",
              "    animation:\n",
              "      spin 1s steps(1) infinite;\n",
              "  }\n",
              "\n",
              "  @keyframes spin {\n",
              "    0% {\n",
              "      border-color: transparent;\n",
              "      border-bottom-color: var(--fill-color);\n",
              "      border-left-color: var(--fill-color);\n",
              "    }\n",
              "    20% {\n",
              "      border-color: transparent;\n",
              "      border-left-color: var(--fill-color);\n",
              "      border-top-color: var(--fill-color);\n",
              "    }\n",
              "    30% {\n",
              "      border-color: transparent;\n",
              "      border-left-color: var(--fill-color);\n",
              "      border-top-color: var(--fill-color);\n",
              "      border-right-color: var(--fill-color);\n",
              "    }\n",
              "    40% {\n",
              "      border-color: transparent;\n",
              "      border-right-color: var(--fill-color);\n",
              "      border-top-color: var(--fill-color);\n",
              "    }\n",
              "    60% {\n",
              "      border-color: transparent;\n",
              "      border-right-color: var(--fill-color);\n",
              "    }\n",
              "    80% {\n",
              "      border-color: transparent;\n",
              "      border-right-color: var(--fill-color);\n",
              "      border-bottom-color: var(--fill-color);\n",
              "    }\n",
              "    90% {\n",
              "      border-color: transparent;\n",
              "      border-bottom-color: var(--fill-color);\n",
              "    }\n",
              "  }\n",
              "</style>\n",
              "\n",
              "  <script>\n",
              "    async function quickchart(key) {\n",
              "      const quickchartButtonEl =\n",
              "        document.querySelector('#' + key + ' button');\n",
              "      quickchartButtonEl.disabled = true;  // To prevent multiple clicks.\n",
              "      quickchartButtonEl.classList.add('colab-df-spinner');\n",
              "      try {\n",
              "        const charts = await google.colab.kernel.invokeFunction(\n",
              "            'suggestCharts', [key], {});\n",
              "      } catch (error) {\n",
              "        console.error('Error during call to suggestCharts:', error);\n",
              "      }\n",
              "      quickchartButtonEl.classList.remove('colab-df-spinner');\n",
              "      quickchartButtonEl.classList.add('colab-df-quickchart-complete');\n",
              "    }\n",
              "    (() => {\n",
              "      let quickchartButtonEl =\n",
              "        document.querySelector('#df-538fdec9-2f3d-4b5c-8870-e7c6c0d2994e button');\n",
              "      quickchartButtonEl.style.display =\n",
              "        google.colab.kernel.accessAllowed ? 'block' : 'none';\n",
              "    })();\n",
              "  </script>\n",
              "</div>\n",
              "    </div>\n",
              "  </div>\n"
            ]
          },
          "metadata": {},
          "execution_count": 44
        }
      ]
    },
    {
      "cell_type": "code",
      "source": [
        "# Replace letters with number, B = 0 and M = 1\n",
        "dataset_2['diagnosis'].replace('B', 0, inplace=True)\n",
        "dataset_2['diagnosis'].replace('M', 1, inplace=True)\n",
        "\n",
        "# dataset_2.tail()"
      ],
      "metadata": {
        "id": "lr-bWP0-extV"
      },
      "execution_count": 45,
      "outputs": []
    },
    {
      "cell_type": "code",
      "source": [
        "# Consider radius_mean through fractal_dimension_worst\n",
        "# as independent variables (X1 through X30)\n",
        "# Consider outcome (having or not having diabetes) as the dependent Variable (Y).\n",
        "X_2 = dataset_2.iloc[:, 2:32].values\n",
        "Y_2 = dataset_2.iloc[:, 1].values\n",
        "\n",
        "# X_2[0:10]"
      ],
      "metadata": {
        "id": "Dp0YhBmNZplM"
      },
      "execution_count": 46,
      "outputs": []
    },
    {
      "cell_type": "code",
      "source": [
        "# Split our Data set into Training Data and Test Data. Training data trains\n",
        "# logistic model and test data validates logistic model.\n",
        "# train_test_split from sklearn.model_selection will be used to split data.\n",
        "X_train_2, X_test_2, Y_train_2, Y_test_2 = train_test_split(X_2, Y_2, test_size = 0.2, random_state = 0)\n",
        "\n",
        "# Use standard scaling from sSklearn to scale data between -1 and 1 for better accuracy.\n",
        "X_train_2 = scale.fit_transform(X_train_2)\n",
        "X_test_2 = scale.transform(X_test_2)\n",
        "\n",
        "# Make an instance classifier of object LogisticRegression and give random_state =  0.\n",
        "classifier_2a = LogisticRegression(penalty = None, random_state=0, max_iter=1000)\n",
        "classifier_2a.fit(X_train_2, Y_train_2)\n",
        "\n",
        "Y_pred_2a = classifier_2a.predict(X_test_2)\n",
        "Y_pred_2a[0:9]"
      ],
      "metadata": {
        "colab": {
          "base_uri": "https://localhost:8080/"
        },
        "id": "9wlF7R1Ug_YA",
        "outputId": "0c51da82-cf11-4788-d631-2cf1321a68ec"
      },
      "execution_count": 47,
      "outputs": [
        {
          "output_type": "execute_result",
          "data": {
            "text/plain": [
              "array([1, 0, 0, 0, 0, 0, 0, 0, 0])"
            ]
          },
          "metadata": {},
          "execution_count": 47
        }
      ]
    },
    {
      "cell_type": "code",
      "source": [
        "cnf_matrix_2a = confusion_matrix(Y_test_2, Y_pred_2a)\n",
        "cnf_matrix_2a"
      ],
      "metadata": {
        "colab": {
          "base_uri": "https://localhost:8080/"
        },
        "id": "Y-RoCMHdjE9q",
        "outputId": "d22a5529-47c9-4708-a4eb-c6de56ec56b9"
      },
      "execution_count": 48,
      "outputs": [
        {
          "output_type": "execute_result",
          "data": {
            "text/plain": [
              "array([[64,  3],\n",
              "       [ 2, 45]])"
            ]
          },
          "metadata": {},
          "execution_count": 48
        }
      ]
    },
    {
      "cell_type": "code",
      "source": [
        "recall_2a = metrics.recall_score(Y_test_2, Y_pred_2a)\n",
        "precision_2a = metrics.precision_score(Y_test_2, Y_pred_2a)\n",
        "accuracy_2a = metrics.accuracy_score(Y_test_2, Y_pred_2a)\n",
        "\n",
        "print(\"Recall for problem 2.a:\", recall_2a)\n",
        "print(\"Precision for problem 2.a:\", precision_2a)\n",
        "print(\"Accuracy for problem 2.a:\", accuracy_2a)\n",
        "\n",
        "F1_score_2a = (2*recall_2a*precision_2a)/(recall_2a+precision_2a)\n",
        "\n",
        "print(\"F1 score for problem 2.a:\", F1_score_2a)"
      ],
      "metadata": {
        "colab": {
          "base_uri": "https://localhost:8080/"
        },
        "id": "smmeNcIUjKdD",
        "outputId": "b95523f3-e744-4c6d-c994-469173b23a0f"
      },
      "execution_count": 49,
      "outputs": [
        {
          "output_type": "stream",
          "name": "stdout",
          "text": [
            "Recall for problem 2.a: 0.9574468085106383\n",
            "Precision for problem 2.a: 0.9375\n",
            "Accuracy for problem 2.a: 0.956140350877193\n",
            "F1 score for problem 2.a: 0.9473684210526315\n"
          ]
        }
      ]
    },
    {
      "cell_type": "code",
      "source": [
        "# Visualize results of model in form of a confusion matrix using matplotlib, seaborn, and heatmap.\n",
        "class_names=[0,1] # name  of classes\n",
        "fig, ax = plt.subplots()\n",
        "tick_marks = np.arange(len(class_names))\n",
        "plt.xticks(tick_marks, class_names)\n",
        "plt.yticks(tick_marks, class_names)\n",
        "# create heatmap\n",
        "sns.heatmap(pd.DataFrame(cnf_matrix_2a), annot=True, cmap=\"bone_r\" ,fmt='g')\n",
        "ax.xaxis.set_label_position(\"top\")\n",
        "plt.tight_layout()\n",
        "plt.title('Confusion matrix for 2a', y=1.1)\n",
        "plt.ylabel('Actual label')\n",
        "plt.xlabel('Predicted label')"
      ],
      "metadata": {
        "colab": {
          "base_uri": "https://localhost:8080/",
          "height": 568
        },
        "id": "RhnHkuMGj3dX",
        "outputId": "100ae140-eeca-40e3-94c7-ff09ca75853c"
      },
      "execution_count": 50,
      "outputs": [
        {
          "output_type": "execute_result",
          "data": {
            "text/plain": [
              "Text(0.5, 427.9555555555555, 'Predicted label')"
            ]
          },
          "metadata": {},
          "execution_count": 50
        },
        {
          "output_type": "display_data",
          "data": {
            "text/plain": [
              "<Figure size 640x480 with 2 Axes>"
            ],
            "image/png": "[encoded data removed]"
          },
          "metadata": {}
        }
      ]
    },
    {
      "cell_type": "code",
      "source": [
        "classifier_2b = LogisticRegression(penalty = 'l2', random_state=0, max_iter=1000)\n",
        "classifier_2b.fit(X_train_2, Y_train_2)\n",
        "\n",
        "Y_pred_2b = classifier_2b.predict(X_test_2)\n",
        "Y_pred_2b[0:9]"
      ],
      "metadata": {
        "colab": {
          "base_uri": "https://localhost:8080/"
        },
        "id": "VzKliEEukZKD",
        "outputId": "74040fc7-4459-4df9-af2e-ed2774d5d391"
      },
      "execution_count": 51,
      "outputs": [
        {
          "output_type": "execute_result",
          "data": {
            "text/plain": [
              "array([1, 0, 0, 0, 0, 0, 0, 0, 0])"
            ]
          },
          "metadata": {},
          "execution_count": 51
        }
      ]
    },
    {
      "cell_type": "code",
      "source": [
        "cnf_matrix_2b = confusion_matrix(Y_test_2, Y_pred_2b)\n",
        "cnf_matrix_2b"
      ],
      "metadata": {
        "colab": {
          "base_uri": "https://localhost:8080/"
        },
        "id": "7PM8oaUnk92i",
        "outputId": "f4445b89-1d06-49a1-e489-c58643305c14"
      },
      "execution_count": 52,
      "outputs": [
        {
          "output_type": "execute_result",
          "data": {
            "text/plain": [
              "array([[65,  2],\n",
              "       [ 2, 45]])"
            ]
          },
          "metadata": {},
          "execution_count": 52
        }
      ]
    },
    {
      "cell_type": "code",
      "source": [
        "recall_2b = metrics.recall_score(Y_test_2, Y_pred_2b)\n",
        "precision_2b = metrics.precision_score(Y_test_2, Y_pred_2b)\n",
        "accuracy_2b = metrics.accuracy_score(Y_test_2, Y_pred_2b)\n",
        "\n",
        "print(\"Recall for problem 2.b:\", recall_2b)\n",
        "print(\"Precision for problem 2.b:\", precision_2b)\n",
        "print(\"Accuracy for problem 2.b:\", accuracy_2b)\n",
        "\n",
        "F1_score_2b = (2*recall_2b*precision_2b)/(recall_2b+precision_2a)\n",
        "\n",
        "print(\"F1 score for problem 2.b:\", F1_score_2b)"
      ],
      "metadata": {
        "colab": {
          "base_uri": "https://localhost:8080/"
        },
        "id": "MjjN5ZuylCFA",
        "outputId": "b39ba414-128e-4667-a5a4-5f79155ecf85"
      },
      "execution_count": 53,
      "outputs": [
        {
          "output_type": "stream",
          "name": "stdout",
          "text": [
            "Recall for problem 2.b: 0.9574468085106383\n",
            "Precision for problem 2.b: 0.9574468085106383\n",
            "Accuracy for problem 2.b: 0.9649122807017544\n",
            "F1 score for problem 2.b: 0.9675251959686451\n"
          ]
        }
      ]
    },
    {
      "cell_type": "code",
      "source": [
        "# Visualize results of model in form of a confusion matrix using matplotlib, seaborn, and heatmap.\n",
        "class_names=[0,1] # name  of classes\n",
        "fig, ax = plt.subplots()\n",
        "tick_marks = np.arange(len(class_names))\n",
        "plt.xticks(tick_marks, class_names)\n",
        "plt.yticks(tick_marks, class_names)\n",
        "# create heatmap\n",
        "sns.heatmap(pd.DataFrame(cnf_matrix_2b), annot=True, cmap=\"bone_r\" ,fmt='g')\n",
        "ax.xaxis.set_label_position(\"top\")\n",
        "plt.tight_layout()\n",
        "plt.title('Confusion matrix for 2b', y=1.1)\n",
        "plt.ylabel('Actual label')\n",
        "plt.xlabel('Predicted label')"
      ],
      "metadata": {
        "colab": {
          "base_uri": "https://localhost:8080/",
          "height": 568
        },
        "id": "KxSuc9OTmSSP",
        "outputId": "fba73185-c796-4f88-db28-c2ff6979e2b1"
      },
      "execution_count": 54,
      "outputs": [
        {
          "output_type": "execute_result",
          "data": {
            "text/plain": [
              "Text(0.5, 427.9555555555555, 'Predicted label')"
            ]
          },
          "metadata": {},
          "execution_count": 54
        },
        {
          "output_type": "display_data",
          "data": {
            "text/plain": [
              "<Figure size 640x480 with 2 Axes>"
            ],
            "image/png": "[encoded data removed]"
          },
          "metadata": {}
        }
      ]
    },
    {
      "cell_type": "code",
      "source": [
        "#Now let's try Naive Gaussian Bays\n",
        "\n",
        "classifier_3 = GaussianNB()\n",
        "\n",
        "X_train_3 = X_train_2\n",
        "X_test_3 = X_test_2\n",
        "Y_train_3 = Y_train_2\n",
        "Y_test_3 = Y_test_2\n",
        "\n",
        "classifier_3.fit(X_train_3, Y_train_3)\n",
        "\n",
        "Y_pred_3  =  classifier_3.predict(X_test_3)\n",
        "\n",
        "print(Y_pred_3[0:5])\n",
        "\n",
        "from sklearn.metrics import confusion_matrix,accuracy_score,precision_score,recall_score\n",
        "cm_3 = confusion_matrix(Y_test_3, Y_pred_3)\n",
        "ac_3 = accuracy_score(Y_test_3, Y_pred_3)\n",
        "re_3 = recall_score(Y_test_3, Y_pred_3)\n",
        "pre_3 = precision_score(Y_test_3, Y_pred_3)\n",
        "\n",
        "F1_score_3 = (2*re_3*pre_3)/(pre_3+re_3)\n",
        "\n",
        "print('Accuracy for problem 3:', ac_3)\n",
        "print('Recall for problem 3:', re_3)\n",
        "print('Precision for problem 3:', pre_3)\n",
        "print('F1 score for problem 3:', F1_score_3)"
      ],
      "metadata": {
        "colab": {
          "base_uri": "https://localhost:8080/"
        },
        "id": "SmhSQNbenoIo",
        "outputId": "b8371910-be1a-4ed2-e886-c12213592aae"
      },
      "execution_count": 55,
      "outputs": [
        {
          "output_type": "stream",
          "name": "stdout",
          "text": [
            "[1 0 0 0 0]\n",
            "Accuracy for problem 3: 0.9035087719298246\n",
            "Recall for problem 3: 0.8936170212765957\n",
            "Precision for problem 3: 0.875\n",
            "F1 score for problem 3: 0.8842105263157894\n"
          ]
        }
      ]
    },
    {
      "cell_type": "code",
      "source": [
        "# Visualize results of model in form of a confusion matrix using matplotlib, seaborn, and heatmap.\n",
        "class_names=[0,1] # name  of classes\n",
        "fig, ax = plt.subplots()\n",
        "tick_marks = np.arange(len(class_names))\n",
        "plt.xticks(tick_marks, class_names)\n",
        "plt.yticks(tick_marks, class_names)\n",
        "# create heatmap\n",
        "sns.heatmap(pd.DataFrame(cm_3), annot=True, cmap=\"bone_r\" ,fmt='g')\n",
        "ax.xaxis.set_label_position(\"top\")\n",
        "plt.tight_layout()\n",
        "plt.title('Confusion matrix for 3', y=1.1)\n",
        "plt.ylabel('Actual label')\n",
        "plt.xlabel('Predicted label')"
      ],
      "metadata": {
        "colab": {
          "base_uri": "https://localhost:8080/",
          "height": 568
        },
        "id": "D9v_jEgMqrSS",
        "outputId": "f89c2ca4-e7c9-4a96-dc57-470a39f4b9c5"
      },
      "execution_count": 56,
      "outputs": [
        {
          "output_type": "execute_result",
          "data": {
            "text/plain": [
              "Text(0.5, 427.9555555555555, 'Predicted label')"
            ]
          },
          "metadata": {},
          "execution_count": 56
        },
        {
          "output_type": "display_data",
          "data": {
            "text/plain": [
              "<Figure size 640x480 with 2 Axes>"
            ],
            "image/png": "[encoded data removed]"
          },
          "metadata": {}
        }
      ]
    },
    {
      "cell_type": "code",
      "source": [
        "def PCA_function(X_train, X_test, K):\n",
        "  pca = PCA(n_components=K)\n",
        "  X_train_PCA = pca.fit_transform(X_train)\n",
        "  X_test_PCA = pca.fit_transform(X_test)\n",
        "  return X_train_PCA, X_test_PCA\n"
      ],
      "metadata": {
        "id": "ftIj9OUAynDD"
      },
      "execution_count": 57,
      "outputs": []
    },
    {
      "cell_type": "code",
      "source": [
        "X_train_4 = X_train_2\n",
        "X_test_4 = X_test_2\n",
        "Y_train_4 = Y_train_2\n",
        "Y_test_4 = Y_test_2\n",
        "\n",
        "accuracy_at_K_4 = 0\n",
        "\n",
        "K_vector_4 = []\n",
        "recall_4_vector = []\n",
        "precision_4_vector = []\n",
        "accuracy_4_vector = []\n",
        "F1_score_4_vector = []\n",
        "\n",
        "for K in range(1, 31):\n",
        "  X_train_4_PCA, X_test_4_PCA = PCA_function(X_train_4, X_test_4, K)\n",
        "\n",
        "  classifier_4 = LogisticRegression(random_state=0)\n",
        "  classifier_4.fit(X_train_4_PCA, Y_train_4)\n",
        "\n",
        "  Y_pred_4 = classifier_4.predict(X_test_4_PCA)\n",
        "\n",
        "  K_vector_4.append(K)\n",
        "  recall_4_vector.append(metrics.recall_score(Y_test_4, Y_pred_4))\n",
        "  precision_4_vector.append(metrics.precision_score(Y_test_4, Y_pred_4))\n",
        "  accuracy_4_vector.append(metrics.accuracy_score(Y_test_4, Y_pred_4))\n",
        "  F1_score_4_vector.append(metrics.f1_score(Y_test_4, Y_pred_4))\n",
        "\n",
        "  if (metrics.accuracy_score(Y_test_4, Y_pred_4) > accuracy_at_K_4):\n",
        "    accuracy_at_K_4 = metrics.accuracy_score(Y_test_4, Y_pred_4)\n",
        "    best_K_4 = K\n",
        "\n",
        "print('Best K value  for problem 4: ', best_K_4)\n",
        "print('\\nAccuracy using best K for problem 4: ', accuracy_at_K_4)\n",
        "print('\\nRecall history for problem 4: ', recall_4_vector)\n",
        "print('\\nAccuracy history for problem 4: ', accuracy_4_vector)\n",
        "print('\\nPrecision history for problem 4: ', precision_4_vector)\n",
        "print('\\nF1 score history for problem 4: ', F1_score_4_vector)\n",
        "\n",
        "table_4 = {'K': K_vector_4, 'Recall': recall_4_vector, 'Precision' : precision_4_vector, 'Accuracy' : accuracy_4_vector, 'F1 Score' : F1_score_4_vector}\n",
        "final_table_4 = pd.DataFrame(table_4)\n",
        "print('\\n', final_table_4[: 10])\n"
      ],
      "metadata": {
        "colab": {
          "base_uri": "https://localhost:8080/"
        },
        "id": "ZoxFmsQiv18_",
        "outputId": "b04f581f-b9b6-4cfd-e87f-00d6f6d29fb8"
      },
      "execution_count": 58,
      "outputs": [
        {
          "output_type": "stream",
          "name": "stdout",
          "text": [
            "Best K value  for problem 4:  5\n",
            "\n",
            "Accuracy using best K for problem 4:  0.9298245614035088\n",
            "\n",
            "Recall history for problem 4:  [0.8936170212765957, 0.8936170212765957, 0.9148936170212766, 0.8723404255319149, 0.9361702127659575, 0.9361702127659575, 0.9361702127659575, 0.9361702127659575, 0.9361702127659575, 0.9361702127659575, 0.9361702127659575, 0.9361702127659575, 0.9361702127659575, 0.9361702127659575, 0.9361702127659575, 0.9361702127659575, 0.9361702127659575, 0.9361702127659575, 0.9361702127659575, 0.9361702127659575, 0.9361702127659575, 0.9361702127659575, 0.9361702127659575, 0.9361702127659575, 0.9361702127659575, 0.9361702127659575, 0.9361702127659575, 0.9361702127659575, 0.9361702127659575, 0.9361702127659575]\n",
            "\n",
            "Accuracy history for problem 4:  [0.9035087719298246, 0.9035087719298246, 0.9122807017543859, 0.9210526315789473, 0.9298245614035088, 0.9298245614035088, 0.9298245614035088, 0.9298245614035088, 0.9210526315789473, 0.9122807017543859, 0.9122807017543859, 0.9122807017543859, 0.9122807017543859, 0.9035087719298246, 0.9035087719298246, 0.9035087719298246, 0.9035087719298246, 0.9035087719298246, 0.9035087719298246, 0.9035087719298246, 0.9035087719298246, 0.9035087719298246, 0.9035087719298246, 0.9035087719298246, 0.9035087719298246, 0.9035087719298246, 0.9035087719298246, 0.9035087719298246, 0.9035087719298246, 0.9035087719298246]\n",
            "\n",
            "Precision history for problem 4:  [0.875, 0.875, 0.8775510204081632, 0.9318181818181818, 0.8979591836734694, 0.8979591836734694, 0.8979591836734694, 0.8979591836734694, 0.88, 0.8627450980392157, 0.8627450980392157, 0.8627450980392157, 0.8627450980392157, 0.8461538461538461, 0.8461538461538461, 0.8461538461538461, 0.8461538461538461, 0.8461538461538461, 0.8461538461538461, 0.8461538461538461, 0.8461538461538461, 0.8461538461538461, 0.8461538461538461, 0.8461538461538461, 0.8461538461538461, 0.8461538461538461, 0.8461538461538461, 0.8461538461538461, 0.8461538461538461, 0.8461538461538461]\n",
            "\n",
            "F1 score history for problem 4:  [0.8842105263157894, 0.8842105263157894, 0.8958333333333333, 0.9010989010989012, 0.9166666666666666, 0.9166666666666666, 0.9166666666666666, 0.9166666666666666, 0.9072164948453608, 0.8979591836734694, 0.8979591836734694, 0.8979591836734694, 0.8979591836734694, 0.8888888888888888, 0.8888888888888888, 0.8888888888888888, 0.8888888888888888, 0.8888888888888888, 0.8888888888888888, 0.8888888888888888, 0.8888888888888888, 0.8888888888888888, 0.8888888888888888, 0.8888888888888888, 0.8888888888888888, 0.8888888888888888, 0.8888888888888888, 0.8888888888888888, 0.8888888888888888, 0.8888888888888888]\n",
            "\n",
            "     K    Recall  Precision  Accuracy  F1 Score\n",
            "0   1  0.893617   0.875000  0.903509  0.884211\n",
            "1   2  0.893617   0.875000  0.903509  0.884211\n",
            "2   3  0.914894   0.877551  0.912281  0.895833\n",
            "3   4  0.872340   0.931818  0.921053  0.901099\n",
            "4   5  0.936170   0.897959  0.929825  0.916667\n",
            "5   6  0.936170   0.897959  0.929825  0.916667\n",
            "6   7  0.936170   0.897959  0.929825  0.916667\n",
            "7   8  0.936170   0.897959  0.929825  0.916667\n",
            "8   9  0.936170   0.880000  0.921053  0.907216\n",
            "9  10  0.936170   0.862745  0.912281  0.897959\n"
          ]
        }
      ]
    },
    {
      "cell_type": "code",
      "source": [
        "cnf_matrix_4 = confusion_matrix(Y_test_4, Y_pred_4)\n",
        "print('Confusion matrix: \\n', cnf_matrix_4)\n",
        "\n",
        "print('\\nAccuracy for problem 4: ', accuracy_4_vector[best_K_4])\n",
        "print('Recall for problem 4: ', recall_4_vector[best_K_4])\n",
        "print('Precision for problem 4: ', precision_4_vector[best_K_4])\n",
        "print('F1 score for problem 4: ', F1_score_4_vector[best_K_4])"
      ],
      "metadata": {
        "colab": {
          "base_uri": "https://localhost:8080/"
        },
        "id": "z0OSo18n0qsJ",
        "outputId": "d2e1d168-b09c-405e-8880-5fefa777e2cd"
      },
      "execution_count": 59,
      "outputs": [
        {
          "output_type": "stream",
          "name": "stdout",
          "text": [
            "Confusion matrix: \n",
            " [[59  8]\n",
            " [ 3 44]]\n",
            "\n",
            "Accuracy for problem 4:  0.9298245614035088\n",
            "Recall for problem 4:  0.9361702127659575\n",
            "Precision for problem 4:  0.8979591836734694\n",
            "F1 score for problem 4:  0.9166666666666666\n"
          ]
        }
      ]
    },
    {
      "cell_type": "code",
      "source": [
        "class_names=[0,1] # name  of classes\n",
        "fig, ax = plt.subplots()\n",
        "tick_marks = np.arange(len(class_names))\n",
        "plt.xticks(tick_marks, class_names)\n",
        "plt.yticks(tick_marks, class_names)\n",
        "# create heatmap\n",
        "sns.heatmap(pd.DataFrame(cnf_matrix_4), annot=True, cmap=\"bone_r\" ,fmt='g')\n",
        "ax.xaxis.set_label_position(\"top\")\n",
        "plt.tight_layout()\n",
        "plt.title('Confusion matrix for 4', y=1.1)\n",
        "plt.ylabel('Actual label')\n",
        "plt.xlabel('Predicted label')"
      ],
      "metadata": {
        "colab": {
          "base_uri": "https://localhost:8080/",
          "height": 568
        },
        "id": "Zm9JRFP0O6Nm",
        "outputId": "a30011f7-fc86-4247-96ed-ca0da9fdc526"
      },
      "execution_count": 60,
      "outputs": [
        {
          "output_type": "execute_result",
          "data": {
            "text/plain": [
              "Text(0.5, 427.9555555555555, 'Predicted label')"
            ]
          },
          "metadata": {},
          "execution_count": 60
        },
        {
          "output_type": "display_data",
          "data": {
            "text/plain": [
              "<Figure size 640x480 with 2 Axes>"
            ],
            "image/png": "[encoded data removed]"
          },
          "metadata": {}
        }
      ]
    },
    {
      "cell_type": "code",
      "source": [
        "X_train_5 = X_train_2\n",
        "X_test_5 = X_test_2\n",
        "Y_train_5 = Y_train_2\n",
        "Y_test_5 = Y_test_2\n",
        "\n",
        "accuracy_at_K_5 = 0\n",
        "\n",
        "K_vector_5 = []\n",
        "recall_5_vector = []\n",
        "precision_5_vector = []\n",
        "accuracy_5_vector = []\n",
        "F1_score_5_vector = []\n",
        "\n",
        "classifier_5 = GaussianNB()\n",
        "\n",
        "for K in range(1, 31):\n",
        "  X_train_5_PCA, X_test_5_PCA = PCA_function(X_train_5, X_test_5, K)\n",
        "\n",
        "  classifier_5 = GaussianNB()\n",
        "  classifier_5.fit(X_train_5_PCA, Y_train_5)\n",
        "\n",
        "  Y_pred_5 = classifier_5.predict(X_test_5_PCA)\n",
        "\n",
        "  K_vector_5.append(K)\n",
        "  recall_5_vector.append(metrics.recall_score(Y_test_5, Y_pred_5))\n",
        "  precision_5_vector.append(metrics.precision_score(Y_test_5, Y_pred_5))\n",
        "  accuracy_5_vector.append(metrics.accuracy_score(Y_test_5, Y_pred_5))\n",
        "  F1_score_5_vector.append(metrics.f1_score(Y_test_5, Y_pred_5))\n",
        "\n",
        "  if (metrics.accuracy_score(Y_test_5, Y_pred_5) > accuracy_at_K_5):\n",
        "    accuracy_at_K_5 = metrics.accuracy_score(Y_test_5, Y_pred_5)\n",
        "    best_K_5 = K\n",
        "\n",
        "print('Best K value for problem 5: ', best_K_5)\n",
        "print('\\nAccuracy using best K for problem 5: ', accuracy_at_K_5)\n",
        "print('\\nRecall history for problem 5: ', recall_5_vector)\n",
        "print('\\nAccuracy history for problem 5: ', accuracy_5_vector)\n",
        "print('\\nPrecision history for problem 5: ', precision_5_vector)\n",
        "print('\\nF1 score history for problem 5: ', F1_score_5_vector)\n",
        "\n",
        "table_5 = {'K': K_vector_5, 'Recall': recall_5_vector, 'Precision' : precision_5_vector, 'Accuracy' : accuracy_5_vector, 'F1 Score' : F1_score_5_vector}\n",
        "final_table_5 = pd.DataFrame(table_5)\n",
        "print('\\n', final_table_5[: 10])\n"
      ],
      "metadata": {
        "colab": {
          "base_uri": "https://localhost:8080/"
        },
        "id": "XfxAu7zqNCLk",
        "outputId": "db9e759a-1736-4889-bede-75e6ca5038fe"
      },
      "execution_count": 61,
      "outputs": [
        {
          "output_type": "stream",
          "name": "stdout",
          "text": [
            "Best K value for problem 5:  5\n",
            "\n",
            "Accuracy using best K for problem 5:  0.9122807017543859\n",
            "\n",
            "Recall history for problem 5:  [0.851063829787234, 0.8936170212765957, 0.851063829787234, 0.8723404255319149, 0.851063829787234, 0.8297872340425532, 0.8297872340425532, 0.8297872340425532, 0.8297872340425532, 0.8297872340425532, 0.8297872340425532, 0.8297872340425532, 0.8297872340425532, 0.8297872340425532, 0.8085106382978723, 0.8085106382978723, 0.7659574468085106, 0.7659574468085106, 0.7446808510638298, 0.723404255319149, 0.723404255319149, 0.7021276595744681, 0.7021276595744681, 0.723404255319149, 0.7021276595744681, 0.723404255319149, 0.7021276595744681, 0.7021276595744681, 0.7021276595744681, 0.6808510638297872]\n",
            "\n",
            "Accuracy history for problem 5:  [0.8859649122807017, 0.8947368421052632, 0.8859649122807017, 0.8947368421052632, 0.9122807017543859, 0.9035087719298246, 0.8947368421052632, 0.8947368421052632, 0.8947368421052632, 0.8947368421052632, 0.8947368421052632, 0.8947368421052632, 0.8771929824561403, 0.8859649122807017, 0.868421052631579, 0.868421052631579, 0.8508771929824561, 0.8596491228070176, 0.8508771929824561, 0.8421052631578947, 0.8508771929824561, 0.8421052631578947, 0.8421052631578947, 0.8508771929824561, 0.8421052631578947, 0.8508771929824561, 0.8421052631578947, 0.8508771929824561, 0.8508771929824561, 0.8333333333333334]\n",
            "\n",
            "Precision history for problem 5:  [0.8695652173913043, 0.8571428571428571, 0.8695652173913043, 0.8723404255319149, 0.9302325581395349, 0.9285714285714286, 0.9069767441860465, 0.9069767441860465, 0.9069767441860465, 0.9069767441860465, 0.9069767441860465, 0.9069767441860465, 0.8666666666666667, 0.8863636363636364, 0.8636363636363636, 0.8636363636363636, 0.8571428571428571, 0.8780487804878049, 0.875, 0.8717948717948718, 0.8947368421052632, 0.8918918918918919, 0.8918918918918919, 0.8947368421052632, 0.8918918918918919, 0.8947368421052632, 0.8918918918918919, 0.9166666666666666, 0.9166666666666666, 0.8888888888888888]\n",
            "\n",
            "F1 score history for problem 5:  [0.8602150537634409, 0.875, 0.8602150537634409, 0.8723404255319149, 0.888888888888889, 0.8764044943820225, 0.8666666666666666, 0.8666666666666666, 0.8666666666666666, 0.8666666666666666, 0.8666666666666666, 0.8666666666666666, 0.8478260869565217, 0.8571428571428571, 0.8351648351648351, 0.8351648351648351, 0.8089887640449439, 0.8181818181818182, 0.8045977011494252, 0.7906976744186047, 0.8, 0.7857142857142857, 0.7857142857142857, 0.8, 0.7857142857142857, 0.8, 0.7857142857142857, 0.7951807228915662, 0.7951807228915662, 0.7710843373493975]\n",
            "\n",
            "     K    Recall  Precision  Accuracy  F1 Score\n",
            "0   1  0.851064   0.869565  0.885965  0.860215\n",
            "1   2  0.893617   0.857143  0.894737  0.875000\n",
            "2   3  0.851064   0.869565  0.885965  0.860215\n",
            "3   4  0.872340   0.872340  0.894737  0.872340\n",
            "4   5  0.851064   0.930233  0.912281  0.888889\n",
            "5   6  0.829787   0.928571  0.903509  0.876404\n",
            "6   7  0.829787   0.906977  0.894737  0.866667\n",
            "7   8  0.829787   0.906977  0.894737  0.866667\n",
            "8   9  0.829787   0.906977  0.894737  0.866667\n",
            "9  10  0.829787   0.906977  0.894737  0.866667\n"
          ]
        }
      ]
    },
    {
      "cell_type": "code",
      "source": [
        "cnf_matrix_5 = confusion_matrix(Y_test_5, Y_pred_5)\n",
        "print('Confusion matrix: \\n', cnf_matrix_5)\n",
        "\n",
        "print('\\nAccuracy for problem 5: ', accuracy_5_vector[best_K_5])\n",
        "print('Recall for problem 5: ', recall_5_vector[best_K_5])\n",
        "print('Precision for problem 5: ', precision_5_vector[best_K_5])\n",
        "print('F1_score_4 for problem 5: ', F1_score_5_vector[best_K_5])"
      ],
      "metadata": {
        "colab": {
          "base_uri": "https://localhost:8080/"
        },
        "id": "OW8EP1RJNCBg",
        "outputId": "cd1ccd40-2d92-48ae-b97e-a48692387fa9"
      },
      "execution_count": 62,
      "outputs": [
        {
          "output_type": "stream",
          "name": "stdout",
          "text": [
            "Confusion matrix: \n",
            " [[63  4]\n",
            " [15 32]]\n",
            "\n",
            "Accuracy for problem 5:  0.9035087719298246\n",
            "Recall for problem 5:  0.8297872340425532\n",
            "Precision for problem 5:  0.9285714285714286\n",
            "F1_score_4 for problem 5:  0.8764044943820225\n"
          ]
        }
      ]
    },
    {
      "cell_type": "code",
      "source": [
        "class_names=[0,1] # name  of classes\n",
        "fig, ax = plt.subplots()\n",
        "tick_marks = np.arange(len(class_names))\n",
        "plt.xticks(tick_marks, class_names)\n",
        "plt.yticks(tick_marks, class_names)\n",
        "# create heatmap\n",
        "sns.heatmap(pd.DataFrame(cnf_matrix_5), annot=True, cmap=\"bone_r\" ,fmt='g')\n",
        "ax.xaxis.set_label_position(\"top\")\n",
        "plt.tight_layout()\n",
        "plt.title('Confusion matrix for 5', y=1.1)\n",
        "plt.ylabel('Actual label')\n",
        "plt.xlabel('Predicted label')"
      ],
      "metadata": {
        "colab": {
          "base_uri": "https://localhost:8080/",
          "height": 568
        },
        "id": "QBJDXakVPAUl",
        "outputId": "1b4b7bfa-690d-4a53-d481-f90873012b36"
      },
      "execution_count": 63,
      "outputs": [
        {
          "output_type": "execute_result",
          "data": {
            "text/plain": [
              "Text(0.5, 427.9555555555555, 'Predicted label')"
            ]
          },
          "metadata": {},
          "execution_count": 63
        },
        {
          "output_type": "display_data",
          "data": {
            "text/plain": [
              "<Figure size 640x480 with 2 Axes>"
            ],
            "image/png": "[encoded data removed]"
          },
          "metadata": {}
        }
      ]
    }
  ]
}